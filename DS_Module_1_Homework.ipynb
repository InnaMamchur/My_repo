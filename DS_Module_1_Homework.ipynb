{
 "cells": [
  {
   "cell_type": "markdown",
   "metadata": {},
   "source": [
    "# Task #1"
   ]
  },
  {
   "cell_type": "code",
   "execution_count": 1,
   "metadata": {},
   "outputs": [
    {
     "name": "stdout",
     "output_type": "stream",
     "text": [
      "List with 5 words that occur most in the String sorted by frequency: ['data', 'science', 'is', 'to', 'the']\n",
      "Dictionary where Key is the word from the String and Value is the frequency of the word {'i': 1, 'am': 1, 'learning': 2, 'data': 6, 'science': 4, 'now': 1, 'is': 3, 'related': 1, 'to': 2, 'mining': 1, 'and': 2, 'machine': 1, 'a': 1, 'concept': 1, 'unify': 1, 'statistics': 1, 'analysis': 1, 'informatics': 1, 'one': 1, 'of': 1, 'the': 2, 'most': 1, 'debated': 1, 'topics': 1, 'in': 1, 'industries': 1, 'these': 1, 'days': 1}\n",
      "Dictionary where Key is the word from the String and Value is the number of letters in the word {'i': 1, 'am': 2, 'learning': 8, 'data': 4, 'science': 7, 'now': 3, 'is': 2, 'related': 7, 'to': 2, 'mining': 6, 'and': 3, 'machine': 7, 'a': 1, 'concept': 7, 'unify': 5, 'statistics': 10, 'analysis': 8, 'informatics': 11, 'one': 3, 'of': 2, 'the': 3, 'most': 4, 'debated': 7, 'topics': 6, 'in': 2, 'industries': 10, 'these': 5, 'days': 4}\n"
     ]
    }
   ],
   "source": [
    "my_str = \"I am learning Data science now. Data science is related to data mining and machine learning. Data science is a concept to unify statistics, Data analysis and informatics. Data science is one of the most debated topics in the industries these days.\"\n",
    "my_str = my_str.lower().replace(\",\", \"\").replace(\".\", \"\")\n",
    "\n",
    "my_list_with_duplicates = my_str.split()\n",
    "\n",
    "\n",
    "def f(a):\n",
    "    n = []\n",
    "    for i in a:\n",
    "        if i not in n:\n",
    "            n.append(i)\n",
    "    return n\n",
    "\n",
    "\n",
    "my_list = f(my_list_with_duplicates)\n",
    "new_list = []\n",
    "\n",
    "for value in my_list:\n",
    "    new_value = [my_list_with_duplicates.count(value), value]\n",
    "    new_list.append(new_value)\n",
    "\n",
    "new_list.sort(reverse = True)\n",
    "\n",
    "\n",
    "del new_list[slice(5,len(new_list))]\n",
    "\n",
    "new_list2 = []\n",
    "for i in new_list:\n",
    "    i= i[1]\n",
    "    new_list2.append(i) \n",
    "    \n",
    "print(\"List with 5 words that occur most in the String sorted by frequency:\",new_list2)\n",
    "\n",
    "my_dict = dict.fromkeys(my_list)\n",
    "new_dict = {key: my_list_with_duplicates.count(key) for key, value in my_dict.items()}\n",
    "print(\"Dictionary where Key is the word from the String and Value is the frequency of the word\", new_dict)\n",
    "new_dict2 = {key: len(key) for key, value in my_dict.items()}\n",
    "print(\"Dictionary where Key is the word from the String and Value is the number of letters in the word\", new_dict2)\n"
   ]
  },
  {
   "cell_type": "markdown",
   "metadata": {},
   "source": [
    "# Task #2"
   ]
  },
  {
   "cell_type": "code",
   "execution_count": 3,
   "metadata": {},
   "outputs": [
    {
     "name": "stdout",
     "output_type": "stream",
     "text": [
      "Intersection detected: (1.5454545454545454, 1.2727272727272727)\n"
     ]
    }
   ],
   "source": [
    "\n",
    "\n",
    "def line (p1, p2):\n",
    "    A = (p1[1] - p2[1])\n",
    "    B = (p2[0] - p1[0])\n",
    "    C = (p1[0]*p2[1] - p2[0]*p1[1])\n",
    "    return A, B, -C\n",
    "\n",
    "def intersection (L1, L2):\n",
    "    D = L1[0] * L2[1] - L1[1] * L2[0]\n",
    "    Dx = L1[2] * L2[1] - L1[1] * L2[2]\n",
    "    Dy = L1[0] * L2[2] - L1[2] * L2[0]\n",
    "    if D !=0:\n",
    "        x = Dx / D\n",
    "        y = Dy / D\n",
    "        return x,y\n",
    "    else:\n",
    "        return False\n",
    "  \n",
    "    \n",
    "\n",
    "x1 = [1, 1]\n",
    "y1 = [3, 2]\n",
    "x2 = [1, 4]\n",
    "y2 = [2, -1]\n",
    "\n",
    "R = intersection(line(x1, y1), line(x2, y2))\n",
    "\n",
    "if R:\n",
    "    print (\"Intersection detected:\", R)\n",
    "else:\n",
    "    print (\"No single intersection point detected\")\n"
   ]
  },
  {
   "cell_type": "markdown",
   "metadata": {},
   "source": [
    "# Task #3"
   ]
  },
  {
   "cell_type": "code",
   "execution_count": 4,
   "metadata": {},
   "outputs": [
    {
     "name": "stdout",
     "output_type": "stream",
     "text": [
      "121 days, 0:00:00\n"
     ]
    }
   ],
   "source": [
    "import datetime\n",
    "def func(b):\n",
    "    delta = b - datetime.date(b.year, 1, 1)\n",
    "    return delta\n",
    "\n",
    "\n",
    "var = datetime.date(2021, 5, 2)\n",
    "print(func(var))\n",
    "\n",
    "\n",
    "    "
   ]
  }
 ],
 "metadata": {
  "kernelspec": {
   "display_name": "Python 3",
   "language": "python",
   "name": "python3"
  },
  "language_info": {
   "codemirror_mode": {
    "name": "ipython",
    "version": 3
   },
   "file_extension": ".py",
   "mimetype": "text/x-python",
   "name": "python",
   "nbconvert_exporter": "python",
   "pygments_lexer": "ipython3",
   "version": "3.8.5"
  }
 },
 "nbformat": 4,
 "nbformat_minor": 4
}
