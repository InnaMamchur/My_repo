{
 "cells": [
  {
   "cell_type": "code",
   "execution_count": 1,
   "metadata": {},
   "outputs": [],
   "source": [
    "import sqlite3"
   ]
  },
  {
   "cell_type": "code",
   "execution_count": 104,
   "metadata": {},
   "outputs": [
    {
     "data": {
      "text/plain": [
       "<sqlite3.Connection at 0x1d877df67b0>"
      ]
     },
     "execution_count": 104,
     "metadata": {},
     "output_type": "execute_result"
    }
   ],
   "source": [
    "connect = sqlite3.connect(\"my_database1.db\")\n",
    "connect"
   ]
  },
  {
   "cell_type": "code",
   "execution_count": 3,
   "metadata": {},
   "outputs": [
    {
     "data": {
      "text/plain": [
       "<sqlite3.Cursor at 0x1d877c9a9d0>"
      ]
     },
     "execution_count": 3,
     "metadata": {},
     "output_type": "execute_result"
    }
   ],
   "source": [
    "cursor = connect.cursor()\n",
    "cursor"
   ]
  },
  {
   "cell_type": "code",
   "execution_count": 4,
   "metadata": {},
   "outputs": [
    {
     "data": {
      "text/plain": [
       "[[1111, 'Amsterdam', 'Vienna', 45],\n",
       " [1112, 'Lviv', 'Kharkiv', 73],\n",
       " [1113, 'Rome', 'Kyiv', 56],\n",
       " [1114, 'Budapest', 'Kharkiv', 35],\n",
       " [1115, 'Lviv', 'Kyiv', 119]]"
      ]
     },
     "execution_count": 4,
     "metadata": {},
     "output_type": "execute_result"
    }
   ],
   "source": [
    "columns_flights = (\"id_flight\",\"Where_from\",\"where_flights\", \"Number_of_passenger\")\n",
    "data_flights =[\n",
    "    [1111, \"Amsterdam\", \"Vienna\", 45],\n",
    "    [1112, \"Lviv\", \"Kharkiv\", 73],\n",
    "    [1113, \"Rome\", \"Kyiv\", 56],\n",
    "    [1114, \"Budapest\", \"Kharkiv\", 35],\n",
    "    [1115, \"Lviv\", \"Kyiv\", 119]\n",
    "]\n",
    "data_flights"
   ]
  },
  {
   "cell_type": "code",
   "execution_count": 5,
   "metadata": {},
   "outputs": [
    {
     "ename": "OperationalError",
     "evalue": "table flights already exists",
     "output_type": "error",
     "traceback": [
      "\u001b[1;31m---------------------------------------------------------------------------\u001b[0m",
      "\u001b[1;31mOperationalError\u001b[0m                          Traceback (most recent call last)",
      "\u001b[1;32m<ipython-input-5-a44bc74e2ea7>\u001b[0m in \u001b[0;36m<module>\u001b[1;34m\u001b[0m\n\u001b[0;32m      1\u001b[0m \u001b[0mquery\u001b[0m \u001b[1;33m=\u001b[0m \u001b[1;34m\"CREATE TABLE flights {};\"\u001b[0m\u001b[1;33m.\u001b[0m\u001b[0mformat\u001b[0m\u001b[1;33m(\u001b[0m\u001b[0mcolumns_flights\u001b[0m\u001b[1;33m)\u001b[0m\u001b[1;33m\u001b[0m\u001b[1;33m\u001b[0m\u001b[0m\n\u001b[1;32m----> 2\u001b[1;33m \u001b[0mcursor\u001b[0m\u001b[1;33m.\u001b[0m\u001b[0mexecute\u001b[0m\u001b[1;33m(\u001b[0m\u001b[0mquery\u001b[0m\u001b[1;33m)\u001b[0m\u001b[1;33m\u001b[0m\u001b[1;33m\u001b[0m\u001b[0m\n\u001b[0m",
      "\u001b[1;31mOperationalError\u001b[0m: table flights already exists"
     ]
    }
   ],
   "source": [
    "query = \"CREATE TABLE flights {};\".format(columns_flights)\n",
    "cursor.execute(query)"
   ]
  },
  {
   "cell_type": "code",
   "execution_count": 6,
   "metadata": {},
   "outputs": [
    {
     "data": {
      "text/plain": [
       "<sqlite3.Cursor at 0x1d877c9a9d0>"
      ]
     },
     "execution_count": 6,
     "metadata": {},
     "output_type": "execute_result"
    }
   ],
   "source": [
    "query = \"INSERT INTO flights VALUES (?, ?, ?, ?);\"\n",
    "cursor.executemany(query, data_flights)"
   ]
  },
  {
   "cell_type": "code",
   "execution_count": 7,
   "metadata": {},
   "outputs": [
    {
     "data": {
      "text/plain": [
       "[[1111, 'Kate', 1, 13],\n",
       " [1111, 'Maria', 1, 35],\n",
       " [1112, 'Anna', 1, 50],\n",
       " [1112, 'Tim', 0, 27],\n",
       " [1113, 'James', 0, 35],\n",
       " [1113, 'Serhiy', 0, 49],\n",
       " [1114, 'Markus', 0, 65],\n",
       " [1115, 'Eugen', 0, 29],\n",
       " [1115, 'Kendall', 1, 24],\n",
       " [1114, 'Barbara', 1, 18]]"
      ]
     },
     "execution_count": 7,
     "metadata": {},
     "output_type": "execute_result"
    }
   ],
   "source": [
    "columns_people = (\"id_flight\",\"Passenger_Name\", \"sex\", \"age\")\n",
    "data_people =[\n",
    "    [1111, \"Kate\", 1, 13],\n",
    "    [1111, \"Maria\", 1, 35],\n",
    "    [1112, \"Anna\", 1, 50],\n",
    "    [1112, \"Tim\", 0, 27],\n",
    "    [1113, \"James\", 0, 35],\n",
    "    [1113, \"Serhiy\", 0, 49],\n",
    "    [1114, \"Markus\", 0, 65],\n",
    "    [1115, \"Eugen\", 0, 29],\n",
    "    [1115, \"Kendall\", 1, 24],\n",
    "    [1114, \"Barbara\", 1, 18]\n",
    "]\n",
    "data_people"
   ]
  },
  {
   "cell_type": "code",
   "execution_count": 8,
   "metadata": {},
   "outputs": [
    {
     "data": {
      "text/plain": [
       "<sqlite3.Cursor at 0x1d877c9a9d0>"
      ]
     },
     "execution_count": 8,
     "metadata": {},
     "output_type": "execute_result"
    }
   ],
   "source": [
    "query = \"CREATE TABLE people {};\".format(columns_people)\n",
    "cursor.execute(query)"
   ]
  },
  {
   "cell_type": "code",
   "execution_count": 9,
   "metadata": {},
   "outputs": [
    {
     "data": {
      "text/plain": [
       "<sqlite3.Cursor at 0x1d877c9a9d0>"
      ]
     },
     "execution_count": 9,
     "metadata": {},
     "output_type": "execute_result"
    }
   ],
   "source": [
    "query = \"INSERT INTO people VALUES (?, ?, ?, ?);\"\n",
    "cursor.executemany(query, data_people)"
   ]
  },
  {
   "cell_type": "markdown",
   "metadata": {},
   "source": [
    "### Unique name of passengers"
   ]
  },
  {
   "cell_type": "code",
   "execution_count": 10,
   "metadata": {},
   "outputs": [
    {
     "data": {
      "text/plain": [
       "[('Kate',),\n",
       " ('Maria',),\n",
       " ('Anna',),\n",
       " ('Tim',),\n",
       " ('James',),\n",
       " ('Serhiy',),\n",
       " ('Markus',),\n",
       " ('Eugen',),\n",
       " ('Kendall',),\n",
       " ('Barbara',)]"
      ]
     },
     "execution_count": 10,
     "metadata": {},
     "output_type": "execute_result"
    }
   ],
   "source": [
    "query = \"SELECT DISTINCT Passenger_Name FROM people;\"\n",
    "cursor.execute(query)\n",
    "result = cursor.fetchall()\n",
    "result"
   ]
  },
  {
   "cell_type": "markdown",
   "metadata": {},
   "source": [
    "### Flights to Kyiv where number of passengers are higher than 100"
   ]
  },
  {
   "cell_type": "code",
   "execution_count": 156,
   "metadata": {},
   "outputs": [
    {
     "data": {
      "text/plain": [
       "[(1115, 'Lviv', 'Kyiv', 119)]"
      ]
     },
     "execution_count": 156,
     "metadata": {},
     "output_type": "execute_result"
    }
   ],
   "source": [
    "query = \"SELECT * FROM flights WHERE (where_flights = 'Kyiv' AND CAST(Number_of_passenger AS INT64) > 100);\"\n",
    "cursor.execute(query)\n",
    "result = cursor.fetchall()\n",
    "result"
   ]
  },
  {
   "cell_type": "markdown",
   "metadata": {},
   "source": [
    "### Add 2 new passengers"
   ]
  },
  {
   "cell_type": "code",
   "execution_count": 12,
   "metadata": {},
   "outputs": [
    {
     "data": {
      "text/plain": [
       "[[1111, 'Lilia', 1, 57], [1115, 'Nadia', 1, 30]]"
      ]
     },
     "execution_count": 12,
     "metadata": {},
     "output_type": "execute_result"
    }
   ],
   "source": [
    "data_new_people = [\n",
    "    [1111, \"Lilia\", 1, 57],\n",
    "    [1115, \"Nadia\", 1, 30]\n",
    "]\n",
    "data_new_people"
   ]
  },
  {
   "cell_type": "code",
   "execution_count": 152,
   "metadata": {},
   "outputs": [
    {
     "data": {
      "text/plain": [
       "<sqlite3.Cursor at 0x1d877c9a9d0>"
      ]
     },
     "execution_count": 152,
     "metadata": {},
     "output_type": "execute_result"
    }
   ],
   "source": [
    "query = \"INSERT INTO people VALUES (?, ?, ?, ?);\"\n",
    "cursor.executemany(query, data_new_people)"
   ]
  },
  {
   "cell_type": "markdown",
   "metadata": {},
   "source": [
    "### Show the name of the oldest woman that flew from Lviv"
   ]
  },
  {
   "cell_type": "code",
   "execution_count": 153,
   "metadata": {},
   "outputs": [
    {
     "name": "stdout",
     "output_type": "stream",
     "text": [
      "Anna\n"
     ]
    }
   ],
   "source": [
    "query = \"SELECT people.Passenger_Name, MAX(CAST(age AS INT64)) FROM flights LEFT JOIN people ON flights.id_flight=people.id_flight WHERE (where_from = 'Lviv' AND sex=1);\"\n",
    "cursor.execute(query)\n",
    "result = cursor.fetchall()\n",
    "result\n",
    "\n",
    "for i in result:\n",
    "    i= i[0]\n",
    "    print(i)"
   ]
  },
  {
   "cell_type": "markdown",
   "metadata": {},
   "source": [
    "### City where the largest number of passengers arrives"
   ]
  },
  {
   "cell_type": "code",
   "execution_count": 154,
   "metadata": {},
   "outputs": [
    {
     "name": "stdout",
     "output_type": "stream",
     "text": [
      "Kyiv\n"
     ]
    }
   ],
   "source": [
    "query = \"SELECT where_flights, SUM (Number_of_passenger) FROM flights GROUP BY where_flights ORDER BY SUM (Number_of_passenger) DESC;\"\n",
    "cursor.execute(query)\n",
    "result = cursor.fetchall()\n",
    "a = result [0]\n",
    "print(a[0])\n",
    "\n"
   ]
  },
  {
   "cell_type": "markdown",
   "metadata": {},
   "source": [
    "### The average age of passengers flew to Kharkiv"
   ]
  },
  {
   "cell_type": "code",
   "execution_count": 164,
   "metadata": {},
   "outputs": [
    {
     "data": {
      "text/plain": [
       "[(40.0,)]"
      ]
     },
     "execution_count": 164,
     "metadata": {},
     "output_type": "execute_result"
    }
   ],
   "source": [
    "query = \"SELECT AVG(CAST(age AS INT64)) FROM flights LEFT JOIN people ON flights.id_flight=people.id_flight WHERE (where_flights = 'Kharkiv');\"\n",
    "cursor.execute(query)\n",
    "result = cursor.fetchall()\n",
    "result"
   ]
  }
 ],
 "metadata": {
  "kernelspec": {
   "display_name": "Python 3",
   "language": "python",
   "name": "python3"
  },
  "language_info": {
   "codemirror_mode": {
    "name": "ipython",
    "version": 3
   },
   "file_extension": ".py",
   "mimetype": "text/x-python",
   "name": "python",
   "nbconvert_exporter": "python",
   "pygments_lexer": "ipython3",
   "version": "3.8.5"
  }
 },
 "nbformat": 4,
 "nbformat_minor": 4
}
